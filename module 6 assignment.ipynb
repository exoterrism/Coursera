{
 "cells": [
  {
   "cell_type": "markdown",
   "id": "966b166e",
   "metadata": {},
   "source": [
    "## Module 6\n",
    "# Assignment"
   ]
  },
  {
   "cell_type": "markdown",
   "id": "1d1c4737",
   "metadata": {},
   "source": [
    "# Introduction"
   ]
  },
  {
   "cell_type": "markdown",
   "id": "d88b1c3f",
   "metadata": {},
   "source": [
    "## Data Science Languages :\n",
    "Python, Rstudio, SQL, Java, Julia"
   ]
  },
  {
   "cell_type": "markdown",
   "id": "e03cb367",
   "metadata": {},
   "source": [
    "## Data Science Libraries:\n",
    "Tensorflow, Chainer, Requests, Pytorch, Keras, SciPi, Matpotlib, Sci-KitLearn, PyTorch, NumPy"
   ]
  },
  {
   "cell_type": "markdown",
   "id": "8cdb1f97",
   "metadata": {},
   "source": [
    "|Data Science categories| Data Science Tools|\n",
    "|:----------|------------|\n",
    "|Data management |MySQL,PostgreSQL,MongoDB,Apache CouchDB,Apache Cassandra,Hadoop File, System,Ceph,elastic search|\n",
    "|Data integration and transformation|Apache AirFlow,KubeFlow,Apache Kafka, Apache Nifi,Apache SparkSQL,NodeRED|\n",
    "|Data visualisation|Pixie Dust,Hue,Kibana,Apache Superset|\n",
    "|Code Asset Management| Git, GitHub, GitLab, and Bitbucket|\n",
    "|Model deployment| Apache PredictionIO,Seldon,Kubernetes,Redhat,OpenShift,Mleap,TensorFlow service,TensorFlow lite,TensorFlow dot JS|\n",
    "|Model monitoring |ModelDB,Prometheus,IBM AI Fairness 360, IBM Adversarial Robustness 360 Toolbox,and IBM AI Explainability 360| \n",
    "\n",
    "\n",
    "\n",
    "\n",
    "    \n",
    "    "
   ]
  },
  {
   "cell_type": "markdown",
   "id": "8fda96b9",
   "metadata": {},
   "source": [
    "# arithmetic expression examples"
   ]
  },
  {
   "cell_type": "code",
   "execution_count": 9,
   "id": "3105a9d2",
   "metadata": {},
   "outputs": [
    {
     "data": {
      "text/plain": [
       "2720"
      ]
     },
     "execution_count": 9,
     "metadata": {},
     "output_type": "execute_result"
    }
   ],
   "source": [
    "(340 * 4) * 2"
   ]
  },
  {
   "cell_type": "code",
   "execution_count": 10,
   "id": "f71a9929",
   "metadata": {},
   "outputs": [],
   "source": [
    "## Multiplication "
   ]
  },
  {
   "cell_type": "code",
   "execution_count": 11,
   "id": "9a84f79a",
   "metadata": {},
   "outputs": [
    {
     "data": {
      "text/plain": [
       "2"
      ]
     },
     "execution_count": 11,
     "metadata": {},
     "output_type": "execute_result"
    }
   ],
   "source": [
    "1 * 2"
   ]
  },
  {
   "cell_type": "code",
   "execution_count": 12,
   "id": "4ac473be",
   "metadata": {},
   "outputs": [
    {
     "data": {
      "text/plain": [
       "4"
      ]
     },
     "execution_count": 12,
     "metadata": {},
     "output_type": "execute_result"
    }
   ],
   "source": [
    "## Addition\n",
    "1 + 3"
   ]
  },
  {
   "cell_type": "code",
   "execution_count": 16,
   "id": "2af10ebc",
   "metadata": {},
   "outputs": [],
   "source": [
    "## Convert minute to hours\n",
    "hours = 0\n",
    "minutes = 0 \n",
    "\n",
    "def converthour(minutes):\n",
    "    hours = minutes / 60\n",
    "    return hours\n",
    "    "
   ]
  },
  {
   "cell_type": "code",
   "execution_count": 17,
   "id": "348c90d8",
   "metadata": {},
   "outputs": [
    {
     "data": {
      "text/plain": [
       "1.0"
      ]
     },
     "execution_count": 17,
     "metadata": {},
     "output_type": "execute_result"
    }
   ],
   "source": [
    "converthour(60)"
   ]
  },
  {
   "cell_type": "markdown",
   "id": "6852fc88",
   "metadata": {},
   "source": [
    "## List of Objectives:\n",
    "    Describe the components of a Data Scientist's toolkit and list various tool categories\n",
    "\n",
    "    List examples of Open Source, Commercial, and Cloud-based tools in various categories\n",
    "    \n",
    "    Identify the criteria and roles for determining the language to learn.\n",
    "\n",
    "    Identify the users and benefits of Python.\n",
    "\n",
    "    Identify the users and uses of the R language.\n",
    "\n",
    "    Define SQL elements and list their benefits.\n",
    "\n",
    "    Review languages such as Java, Scala, C++, JavaScript, and Julia.\n",
    "\n",
    "    List the global communities for connecting with other users.\n",
    "   \n",
    "    List examples of the various libraries: scientific, visualization, machine learning, and deep learning.\n",
    "\n",
    "    Define REST API to request and respond.\n",
    "\n",
    "    Describe data sets and sources of data.\n",
    "\n",
    "    Explore open data sets on the Data Asset eXchange.\n",
    "\n",
    "    Describe how to use a learning model to solve a problem.\n",
    "\n",
    "    List the tasks that a data scientist needs to perform to build a model.\n",
    "\n",
    "    Explore ML models in the Model Learning eXchange.\n",
    "    \n",
    "    Describe how to use the notebooks in JupyterLab.\n",
    "\n",
    "    Describe how to work in a notebook session.\n",
    "\n",
    "    Describe the basic Jupyter architecture.\n",
    "\n",
    "    Describe how to work with kernels.\n",
    "\n",
    "    Identify tools in Anaconda Jupyter environments.\n",
    "\n",
    "    Describe cloud-based Jupyter environments and their data science features.\n",
    "    \n",
    "    Describe R capabilities and RStudio environment.\n",
    "\n",
    "    Use the inbuilt R plot function.\n",
    "\n",
    "    Explain version control and describe the Git and GitHub environment.\n",
    "\n",
    "    Describe the purpose of source repositories and explain how GitHub satisfies the needs of a source repository.\n",
    "\n",
    "    Create a GitHub account and a project repository.\n",
    "\n",
    "    Demonstrate how to edit and upload files in GitHub.\n",
    "\n",
    "    Explain the purpose of branches and how to merge changes.\n",
    "    \n",
    "    Create a Jupyter Notebook with markdown and code cells\n",
    "\n",
    "    List examples of languages, libraries and tools used in Data Science\n",
    "\n",
    "    Share your Jupyter Notebook publicly on GitHub\n",
    "\n",
    "    Evaluate notebooks submitted by your peers using the provided rubric\n",
    "\n",
    "    Demonstrate proficiency in Data Science toolkit knowledge\n",
    "\n",
    "    Find common resources in Watson Studio and IBM Cloud Pak for Data.\n",
    "\n",
    "    Create an IBM Cloud account, service, and project in Watson Studio.\n",
    "\n",
    "    Create and share a Jupyter Notebook.\n",
    "\n",
    "    Use different types of Jupyter Notebook templates and kernels on IBM Watson Studio.\n",
    "\n",
    "    Describe how to connect a Watson Studio account and publish a notebook in GitHub.\n",
    "\n"
   ]
  },
  {
   "cell_type": "markdown",
   "id": "12bdbffe",
   "metadata": {},
   "source": [
    "# Author(s):\n",
    "    Yau Fan"
   ]
  },
  {
   "cell_type": "code",
   "execution_count": null,
   "id": "47e02ebd",
   "metadata": {},
   "outputs": [],
   "source": []
  }
 ],
 "metadata": {
  "kernelspec": {
   "display_name": "Python 3 (ipykernel)",
   "language": "python",
   "name": "python3"
  },
  "language_info": {
   "codemirror_mode": {
    "name": "ipython",
    "version": 3
   },
   "file_extension": ".py",
   "mimetype": "text/x-python",
   "name": "python",
   "nbconvert_exporter": "python",
   "pygments_lexer": "ipython3",
   "version": "3.10.9"
  }
 },
 "nbformat": 4,
 "nbformat_minor": 5
}
